{
 "cells": [
  {
   "cell_type": "markdown",
   "id": "ac7dc132",
   "metadata": {},
   "source": [
    "Homework #4 - ASTR119 - Neal K Shah"
   ]
  },
  {
   "cell_type": "markdown",
   "id": "3287ada5",
   "metadata": {},
   "source": [
    "# 1) Write a jupyter notebook to perform Bisection Search root finding.\n",
    "\n",
    "### Numerically find the two roots of the function: f(x) = 1.01x^2 - 3.04x + 2.07"
   ]
  },
  {
   "cell_type": "markdown",
   "id": "de471345",
   "metadata": {},
   "source": [
    "### Import needed libraries."
   ]
  },
  {
   "cell_type": "code",
   "execution_count": null,
   "id": "bf860a80",
   "metadata": {},
   "outputs": [],
   "source": [
    "%matplotlib inline\n",
    "import numpy as np\n",
    "import matplotlib.pyplot as plt"
   ]
  },
  {
   "cell_type": "markdown",
   "id": "2f1b3e78",
   "metadata": {},
   "source": [
    "### Define a function to find the roots of."
   ]
  },
  {
   "cell_type": "code",
   "execution_count": null,
   "id": "a112bca9",
   "metadata": {},
   "outputs": [],
   "source": [
    "def function_for_roots(x):\n",
    "    a = 1.01\n",
    "    b = -3.04\n",
    "    c = 2.07\n",
    "    return a*x**2 + b*x + c #get the roots of the function"
   ]
  },
  {
   "cell_type": "markdown",
   "id": "9bdf3b7c",
   "metadata": {},
   "source": [
    "### Validate our initial bracket."
   ]
  },
  {
   "cell_type": "code",
   "execution_count": null,
   "id": "a769034a",
   "metadata": {},
   "outputs": [],
   "source": [
    "def check_initial_values(f, x_min, x_max, tol):\n",
    "    \n",
    "    #check our initial guesses\n",
    "    y_min = f(x_min)\n",
    "    y_max = f(x_max)\n",
    "    \n",
    "    #check that xmin and xmax bracket a root\n",
    "    if(y_min*y_max>0.0):\n",
    "        print(\"No zero crossing found in the range = \",x_min,x_max)\n",
    "        s = \"f(%f) = %f, f(%f) = %f\" % (x_min,y_min,x_max,y_max)\n",
    "        print(s)\n",
    "        return(0)\n",
    "    \n",
    "    #if x_min is a root, then return flag==1\n",
    "    if(np.fabs(y_min)<tol):\n",
    "        return 1\n",
    "    \n",
    "    #if x_max is a root, then return flag==2\n",
    "    if(np.fabs(y_max)<tol):\n",
    "        return 2\n",
    "    \n",
    "    #if we reach this point, the bracket is\n",
    "    #is valid\n",
    "    \n",
    "    return 3"
   ]
  },
  {
   "cell_type": "markdown",
   "id": "de2cbc3a",
   "metadata": {},
   "source": [
    "## Main work function"
   ]
  },
  {
   "cell_type": "code",
   "execution_count": null,
   "id": "8ecbc8c8",
   "metadata": {},
   "outputs": [],
   "source": [
    "def bisection_root_finding(f, x_min_start, x_max_start, tol,show_iterations=False):\n",
    "    \n",
    "    #this function uses bisection search to find a root of f\n",
    "    \n",
    "    x_min = x_min_start #minimum x value of bracket\n",
    "    \n",
    "    x_max = x_max_start #maximum x value of bracket\n",
    "    \n",
    "    x_mid = 0.0 #x midpoint of bracket\n",
    "    \n",
    "    y_min = f(x_min) #minimum y value of bracket\n",
    "    y_max = f(x_max) #maximum y value of bracket\n",
    "    y_mid = 0.0 #y midpoint of bracket\n",
    "    \n",
    "    imax = 10000 #maximum number of iterations allowed\n",
    "    i = 0 #iteration counter\n",
    "    \n",
    "    #check the initial values\n",
    "    flag = check_initial_values(f,x_min,x_max,tol)\n",
    "    \n",
    "    if(flag==0):\n",
    "        print(\"Error in bisection root_find_finding\")\n",
    "        raise ValueError(\"Initial values are invalid \",x_min,x_max)\n",
    "    elif(flag==1):\n",
    "        #lucky guess\n",
    "        return x_min\n",
    "    elif(flag==2):\n",
    "        #lucky guess\n",
    "        return x_max\n",
    "        \n",
    "    #if we reach here, then conduct the search\n",
    "    \n",
    "    #set a flag\n",
    "    flag = 1\n",
    "    \n",
    "    #enter a while loop\n",
    "    while(flag):\n",
    "        \n",
    "        #set our midpoint\n",
    "        x_mid = 0.5*(x_min+x_max)\n",
    "        y_mid = f(x_mid) #f of x_mid\n",
    "        \n",
    "        #check if x_mid is a root\n",
    "        if(np.fabs(y_mid)<tol):\n",
    "            flag = 0\n",
    "        else:\n",
    "            #x mid is not a root\n",
    "            \n",
    "            #if the product of the function at the midpoint\n",
    "            #and at one of the endpoints is greater than\n",
    "            #zero, replace this end point\n",
    "            if(f(x_min)*f(x_mid)>0):\n",
    "                #replace x_min with x_mid\n",
    "                x_min = x_mid\n",
    "            else:\n",
    "                #replace x_max with x_mid\n",
    "                x_max = x_mid\n",
    "                \n",
    "        #print out the iteration\n",
    "        print(x_min,f(x_min),x_max,f(x_max))\n",
    "        \n",
    "        #count the iteration\n",
    "        i += 1\n",
    "        \n",
    "        #if we have exceeded the max number\n",
    "        #of iterations, exit\n",
    "        if(i>=imax):\n",
    "            print(\"Exceeded max number of iterations = \",i)\n",
    "            s = \"Min bracket f(%f) = %f\" % (x_min,f(x_min))\n",
    "            print(s)\n",
    "            s = \"Max bracket f(%f) = %f\" % (x_max,f(x_max))\n",
    "            print(s)\n",
    "            s = \"Mid bracket f(%f) = %f\" % (x_mid,f(x_mid))\n",
    "            print(s)\n",
    "            raise StopIteration('Stopping iterations after ',i)\n",
    "            \n",
    "        #inside while loop\n",
    "        print(\"Iteration = \",i)\n",
    "        #end of while loop here\n",
    "        \n",
    "    #outside of while loop\n",
    "    \n",
    "    #we are done!\n",
    "    return x_mid\n",
    "    "
   ]
  },
  {
   "cell_type": "markdown",
   "id": "19252c00",
   "metadata": {},
   "source": [
    "### Perform the search."
   ]
  },
  {
   "cell_type": "markdown",
   "id": "6f3ef63d",
   "metadata": {},
   "source": [
    "# One/Two Zeroes:"
   ]
  },
  {
   "cell_type": "code",
   "execution_count": null,
   "id": "611c1336",
   "metadata": {},
   "outputs": [],
   "source": [
    "x_min = 0.9\n",
    "x_max = 1.1\n",
    "tolerance = 1.0e-6\n",
    "\n",
    "#print the initial guesses\n",
    "print(x_min,function_for_roots(x_min))\n",
    "print(x_max,function_for_roots(x_max))\n",
    "\n",
    "#call the bisection root finding routine\n",
    "x_root1 = bisection_root_finding(function_for_roots,x_min,x_max,tolerance,True)\n",
    "y_root1 = function_for_roots(x_root1)\n",
    "s1 = \"Root 1 found with y(%f) = %f\" % (x_root1,y_root1)\n",
    "print(s1)"
   ]
  },
  {
   "cell_type": "markdown",
   "id": "a1ccfc5c",
   "metadata": {},
   "source": [
    "# Two/Two Zeroes:"
   ]
  },
  {
   "cell_type": "code",
   "execution_count": null,
   "id": "31d9583a",
   "metadata": {},
   "outputs": [],
   "source": [
    "x_min = 1.9\n",
    "x_max = 2.2\n",
    "tolerance = 1.0e-6\n",
    "\n",
    "#print the initial guesses\n",
    "print(x_min,function_for_roots(x_min))\n",
    "print(x_max,function_for_roots(x_max))\n",
    "\n",
    "#call the bisection root finding routine\n",
    "x_root2 = bisection_root_finding(function_for_roots,x_min,x_max,tolerance,True)\n",
    "y_root2 = function_for_roots(x_root2)\n",
    "s2 = \"Root 2 found with y(%f) = %f\" % (x_root2,y_root2)\n",
    "print(s2)"
   ]
  },
  {
   "cell_type": "markdown",
   "id": "b57a2690",
   "metadata": {},
   "source": [
    " The two roots found were x = 1.04 and x = 1.96."
   ]
  },
  {
   "cell_type": "markdown",
   "id": "9ed8b8c9",
   "metadata": {},
   "source": [
    "# 2) How many iterations does your method take to converge?\n",
    "\n",
    "The first root of 1.04 took 12 iterations while the second root took 13 iterations."
   ]
  },
  {
   "cell_type": "markdown",
   "id": "c22a46ee",
   "metadata": {},
   "source": [
    "# 3) Have your notebook make a plot of f(x) vs x as a line..."
   ]
  },
  {
   "cell_type": "code",
   "execution_count": null,
   "id": "24e91fcf",
   "metadata": {},
   "outputs": [],
   "source": [
    "x = np.linspace(0,3,1000)\n",
    "plt.plot([0,3],[0,0],'k')\n",
    "plt.plot(x,function_for_roots(x))\n",
    "plt.plot(x_root1,y_root1, 'or')\n",
    "plt.plot(x_root2,y_root2, 'og')\n",
    "plt.xlim([0,3])\n",
    "plt.ylim([-0.5,2.1])\n",
    "plt.show()"
   ]
  },
  {
   "cell_type": "code",
   "execution_count": null,
   "id": "6f868df3",
   "metadata": {},
   "outputs": [],
   "source": []
  }
 ],
 "metadata": {
  "kernelspec": {
   "display_name": "Python 3 (ipykernel)",
   "language": "python",
   "name": "python3"
  },
  "language_info": {
   "codemirror_mode": {
    "name": "ipython",
    "version": 3
   },
   "file_extension": ".py",
   "mimetype": "text/x-python",
   "name": "python",
   "nbconvert_exporter": "python",
   "pygments_lexer": "ipython3",
   "version": "3.9.7"
  }
 },
 "nbformat": 4,
 "nbformat_minor": 5
}
