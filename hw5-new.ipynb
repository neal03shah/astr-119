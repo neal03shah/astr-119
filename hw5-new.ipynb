{
 "cells": [
  {
   "cell_type": "markdown",
   "id": "2c76018b",
   "metadata": {},
   "source": [
    "### Import needed libraries."
   ]
  },
  {
   "cell_type": "code",
   "execution_count": 1,
   "id": "49e76092",
   "metadata": {},
   "outputs": [],
   "source": [
    "%matplotlib inline\n",
    "import numpy as np\n",
    "import matplotlib.pyplot as plt"
   ]
  },
  {
   "cell_type": "markdown",
   "id": "480bc210",
   "metadata": {},
   "source": [
    "### Define a function to take an integral of."
   ]
  },
  {
   "cell_type": "code",
   "execution_count": 2,
   "id": "e1ef98fe",
   "metadata": {},
   "outputs": [],
   "source": [
    "def func(x):\n",
    "    return np.exp(-2*x)*np.cos(10*x)"
   ]
  },
  {
   "cell_type": "markdown",
   "id": "856bfdde",
   "metadata": {},
   "source": [
    "### Define the function's integral so we know the right answer."
   ]
  },
  {
   "cell_type": "code",
   "execution_count": 3,
   "id": "d6489b92",
   "metadata": {},
   "outputs": [],
   "source": [
    "def func_integral(x):\n",
    "    return (np.exp(-2*x)*np.sin(10*x))/52. - (np.exp(-2*x)*np.cos(10*x))/52."
   ]
  },
  {
   "cell_type": "markdown",
   "id": "675cec77",
   "metadata": {},
   "source": [
    "### Define the core of the trapezoid method."
   ]
  },
  {
   "cell_type": "code",
   "execution_count": 4,
   "id": "40f8ef5d",
   "metadata": {},
   "outputs": [],
   "source": [
    "def trapezoid_core(f,x,h):\n",
    "    return 0.5*h*(f(x+h) + f(x))"
   ]
  },
  {
   "cell_type": "markdown",
   "id": "a70206da",
   "metadata": {},
   "source": [
    "### Define a wrapper function to perform the trapezoid method."
   ]
  },
  {
   "cell_type": "code",
   "execution_count": 5,
   "id": "887a548f",
   "metadata": {},
   "outputs": [],
   "source": [
    "def trapezoid_method(f,a,b,N):\n",
    "    #f = function to integrate\n",
    "    #a = lower limit of integration\n",
    "    #b = upper limit of integration\n",
    "    #N = number of function evaluations to use\n",
    "    \n",
    "    #define x values to perform trapezoid rule\n",
    "    x = np.linspace(a,b,N)\n",
    "    h = x[1]-x[0]\n",
    "    \n",
    "    #define the value of the integral\n",
    "    Fint = 0.0\n",
    "    \n",
    "    #perform the integral using the trapezoid method\n",
    "    for i in range(0,len(x)-1,1):\n",
    "        Fint += trapezoid_core(f,x[i],h)\n",
    "        \n",
    "    #Return the answer\n",
    "    return Fint"
   ]
  },
  {
   "cell_type": "markdown",
   "id": "8bb8f839",
   "metadata": {},
   "source": [
    "### Define the core of the Simpson's Method."
   ]
  },
  {
   "cell_type": "code",
   "execution_count": 6,
   "id": "751eec18",
   "metadata": {},
   "outputs": [],
   "source": [
    "def simpson_core(f,x,h):\n",
    "    return h*( f(x) + 4*f(x+h) + f(x+2*h))/3."
   ]
  },
  {
   "cell_type": "markdown",
   "id": "7db1a12e",
   "metadata": {},
   "source": [
    "### Define a wrapper function to perform Simpson's Method."
   ]
  },
  {
   "cell_type": "code",
   "execution_count": 7,
   "id": "97817f93",
   "metadata": {},
   "outputs": [],
   "source": [
    "def simpsons_method(f,a,b,N):\n",
    "    #f == function to integrate\n",
    "    #a == left side of integral\n",
    "    #b == right side of integral\n",
    "    #N == number of intervals to use\n",
    "    \n",
    "    #define x values on our grid\n",
    "    x = np.linspace(a,b,N)\n",
    "    h = x[1]-x[0]\n",
    "    \n",
    "    #define the integral\n",
    "    Fint = 0.0\n",
    "    \n",
    "    #perform the integral using the simpson's method\n",
    "    for i in range(0,len(x)-2,2):\n",
    "        Fint += simpson_core(f,x[i],h)\n",
    "        \n",
    "        #apply simpson's rule over the last interval\n",
    "    #if N is even\n",
    "    if((N%2)==0):\n",
    "            Fint += simpson_core(f,x[-2],0.5*h)\n",
    "        \n",
    "    #return the answer\n",
    "    return Fint"
   ]
  },
  {
   "cell_type": "markdown",
   "id": "998da2ae",
   "metadata": {},
   "source": [
    "### Define the Romberg Integration core."
   ]
  },
  {
   "cell_type": "code",
   "execution_count": 8,
   "id": "6b4e7591",
   "metadata": {},
   "outputs": [],
   "source": [
    "def romberg_core(f,a,b,i):\n",
    "    \n",
    "    #we need the difference between a and b\n",
    "    h = b-a\n",
    "    \n",
    "    #interval between function evaluations at refinement level i\n",
    "    dh = h/2.**(i)\n",
    "    \n",
    "    #we need the cofactor\n",
    "    K = h/2.**(i+1)\n",
    "    \n",
    "    #and the function evaluations\n",
    "    M = 0.0\n",
    "    for j in range(2**i):\n",
    "        M += f(a + 0.5*dh + j*dh)\n",
    "        \n",
    "    #return the answer\n",
    "    return K*M"
   ]
  },
  {
   "cell_type": "markdown",
   "id": "1027d7a7",
   "metadata": {},
   "source": [
    "### Define a wrapper function to perform Romberg Integration."
   ]
  },
  {
   "cell_type": "code",
   "execution_count": 9,
   "id": "0f25e91a",
   "metadata": {},
   "outputs": [],
   "source": [
    "def romberg_integration(f,a,b,tol):\n",
    "    \n",
    "    #define an iteration varaible\n",
    "    i=0\n",
    "    \n",
    "    #define a max number of iterations\n",
    "    imax = 1000\n",
    "    \n",
    "    #define an error estimate\n",
    "    delta = 100.0*np.fabs(tol)\n",
    "    \n",
    "    #set an array of integral answers\n",
    "    I = np.zeros(imax,dtype=float)\n",
    "    \n",
    "    #get the zeroth romberg iteration first\n",
    "    I[0] = 0.5*(b-a)*(f(a) + f(b))\n",
    "    \n",
    "    #iterate by 1\n",
    "    i += 1\n",
    "    \n",
    "    #iterate until we reach tolerance\n",
    "    while(delta>tol):\n",
    "        \n",
    "        #find this Romberg iteration\n",
    "        I[i] = 0.5*I[i-1] + romberg_core(f,a,b,i)\n",
    "        \n",
    "        #compute a fractional error estimate\n",
    "        delta = np.fabs( (I[i]-I[i-1])/I[i])\n",
    "        \n",
    "        print(i,I[i],I[i-1],delta)\n",
    "        \n",
    "        if(delta>tol):\n",
    "            \n",
    "            #iterate\n",
    "            i += 1\n",
    "            \n",
    "            #if we've reached maximum iterations\n",
    "            if(i>imax):\n",
    "                print(\"Max iterations reached.\")\n",
    "                raise StopIteration(\"Stop iterations after \",i)\n",
    "                \n",
    "    #return the answer\n",
    "    return I[i]"
   ]
  },
  {
   "cell_type": "markdown",
   "id": "24b7ac9a",
   "metadata": {},
   "source": [
    "### Check the integrals."
   ]
  },
  {
   "cell_type": "code",
   "execution_count": null,
   "id": "7e9e9ff6",
   "metadata": {},
   "outputs": [
    {
     "name": "stdout",
     "output_type": "stream",
     "text": [
      "0.019194856870544078\n",
      "trapezoid method\n",
      "0.01919499097726966\n",
      "Simpson's method\n",
      "0.019191462317880627\n",
      "Romberg\n",
      "1 0.7868648494891817 1.5737296989783633 1.0\n",
      "2 0.2974797999211515 0.7868648494891817 1.6451034648327187\n",
      "3 0.1338682162766772 0.2974797999211515 1.222183937270994\n",
      "4 0.07429884868669352 0.1338682162766772 0.8017535754985687\n",
      "5 0.04631129469303243 0.07429884868669352 0.6043353825275767\n",
      "6 0.03265075906247467 0.04631129469303243 0.41838340126854\n",
      "7 0.02589762452336669 0.03265075906247467 0.26076270173022315\n",
      "8 0.022539969341304138 0.02589762452336669 0.14896449641170112\n",
      "9 0.02086584679503983 0.022539969341304138 0.08023266741622372\n",
      "10 0.02002996035051737 0.02086584679503983 0.041731807247480004\n",
      "11 0.01961231074592669 0.02002996035051737 0.02129527774678078\n",
      "12 0.019403559342457077 0.01961231074592669 0.010758407763509729\n",
      "13 0.01929920199007937 0.019403559342457077 0.005407340284398829\n",
      "14 0.019247027901207872 0.01929920199007937 0.0027107608062554305\n",
      "15 0.019220942003600066 0.019247027901207872 0.0013571602059316483\n",
      "16 0.01920789934150289 0.019220942003600066 0.0006790259499640058\n",
      "17 0.019201378082131116 0.01920789934150289 0.0003396245490234728\n",
      "18 0.019198117470364318 0.019201378082131116 0.0001698401820820051\n",
      "19 0.019196487168961114 0.019198117470364318 8.492706966926287e-05\n",
      "20 0.019195672019377927 0.019196487168961114 4.246527979663633e-05\n",
      "21 0.019195264444867084 0.019195672019377927 2.1233076106515646e-05\n",
      "22 0.019195060657681284 0.019195264444867084 1.0616647138248912e-05\n",
      "23 0.019194958764104236 0.019195060657681284 5.308350921731978e-06\n"
     ]
    }
   ],
   "source": [
    "Answer = func_integral(np.pi) - func_integral(0)\n",
    "print(Answer)\n",
    "print(\"trapezoid method\")\n",
    "print(trapezoid_method(func,0,np.pi,3500))\n",
    "print(\"Simpson's method\")\n",
    "print(simpsons_method(func,0,np.pi,100))\n",
    "print(\"Romberg\")\n",
    "tolerance = 1.0e-6\n",
    "RI = romberg_integration(func,0,np.pi,tolerance)\n",
    "print(RI, (RI-Answer)/Answer, tolerance)"
   ]
  },
  {
   "cell_type": "markdown",
   "id": "d4792f5d",
   "metadata": {},
   "source": [
    "## How many iterations? - Romberg Integration\n",
    "\n",
    "23 iterations"
   ]
  },
  {
   "cell_type": "markdown",
   "id": "a7ecbc2f",
   "metadata": {},
   "source": [
    "## How many intervals? - Trapezoid Method\n",
    "\n",
    "3500 intervals"
   ]
  },
  {
   "cell_type": "markdown",
   "id": "45d0bc59",
   "metadata": {},
   "source": [
    "## How many intervals? - Simpson's Method\n",
    "\n",
    "100 intervals"
   ]
  },
  {
   "cell_type": "code",
   "execution_count": null,
   "id": "b6a1acb1",
   "metadata": {},
   "outputs": [],
   "source": []
  }
 ],
 "metadata": {
  "kernelspec": {
   "display_name": "Python 3 (ipykernel)",
   "language": "python",
   "name": "python3"
  },
  "language_info": {
   "codemirror_mode": {
    "name": "ipython",
    "version": 3
   },
   "file_extension": ".py",
   "mimetype": "text/x-python",
   "name": "python",
   "nbconvert_exporter": "python",
   "pygments_lexer": "ipython3",
   "version": "3.9.7"
  }
 },
 "nbformat": 4,
 "nbformat_minor": 5
}
