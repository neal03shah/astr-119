{
 "cells": [
  {
   "cell_type": "markdown",
   "id": "fd79c8dd",
   "metadata": {},
   "source": [
    "# Trapezoidal, Simpson's Method, and Romberg Integration"
   ]
  },
  {
   "cell_type": "markdown",
   "id": "d1545cc4",
   "metadata": {},
   "source": [
    "### Import libraries"
   ]
  },
  {
   "cell_type": "code",
   "execution_count": null,
   "id": "395c6371",
   "metadata": {},
   "outputs": [],
   "source": [
    "%matplotlib inline\n",
    "import numpy as np\n",
    "import matplotlib.pyplot as plt"
   ]
  },
  {
   "cell_type": "markdown",
   "id": "153b793c",
   "metadata": {},
   "source": [
    "### Define the function"
   ]
  },
  {
   "cell_type": "code",
   "execution_count": null,
   "id": "1d9ca231",
   "metadata": {},
   "outputs": [],
   "source": [
    "def func(x):\n",
    "    return np.exp(-2*x)*np.cos(10*x)"
   ]
  },
  {
   "cell_type": "markdown",
   "id": "75217c16",
   "metadata": {},
   "source": [
    "### Define the integral of the function so we know the right answer"
   ]
  },
  {
   "cell_type": "code",
   "execution_count": null,
   "id": "8cfcacee",
   "metadata": {},
   "outputs": [],
   "source": [
    "def func_integral(x):\n",
    "    return (5*np.exp(-2*x)*np.sin(10*x))/52. - (np.exp(-2*x)*np.cos(10*x))/52."
   ]
  },
  {
   "cell_type": "markdown",
   "id": "1858fe96",
   "metadata": {},
   "source": [
    "### Define the trapezoid core"
   ]
  },
  {
   "cell_type": "code",
   "execution_count": null,
   "id": "1269314f",
   "metadata": {},
   "outputs": [],
   "source": [
    "def trapezoid_core(f,x,h):\n",
    "    return 0.5*h*(f(x+h) + f(x))"
   ]
  },
  {
   "cell_type": "markdown",
   "id": "fa8b6394",
   "metadata": {},
   "source": [
    "### Wrapper function for trapezoid method"
   ]
  },
  {
   "cell_type": "code",
   "execution_count": null,
   "id": "f361f3e8",
   "metadata": {},
   "outputs": [],
   "source": [
    "def trapezoid_method(f,a,b,N):\n",
    "    #f == function to integrate\n",
    "    #a == left side of integral\n",
    "    #b == right side of integral\n",
    "    #N == number of intervals to use\n",
    "    \n",
    "    #define x values on our grid\n",
    "    x = np.linspace(a,b,N)\n",
    "    h = x[1]-x[0]\n",
    "    \n",
    "    #define the integral\n",
    "    Fint = 0.0\n",
    "    \n",
    "    #perform the integral using the trapezoid method\n",
    "    for i in range(0,len(x)-1,1):\n",
    "        Fint += trapezoid_core(f,x[i],h)\n",
    "        \n",
    "    #return the answer\n",
    "    return Fint"
   ]
  },
  {
   "cell_type": "markdown",
   "id": "b17f66ba",
   "metadata": {},
   "source": [
    "### Define Simpson core"
   ]
  },
  {
   "cell_type": "code",
   "execution_count": null,
   "id": "b80e2607",
   "metadata": {},
   "outputs": [],
   "source": [
    "def simpson_core(f,x,h):\n",
    "    return h*( f(x) + 4*f(x+h) + f(x+2*h))/3."
   ]
  },
  {
   "cell_type": "markdown",
   "id": "406fa458",
   "metadata": {},
   "source": [
    "### Wrapper function for Simpson's method"
   ]
  },
  {
   "cell_type": "code",
   "execution_count": null,
   "id": "bc54876d",
   "metadata": {},
   "outputs": [],
   "source": [
    "def simpsons_method(f,a,b,N):\n",
    "    #f == function to integrate\n",
    "    #a == left side of integral\n",
    "    #b == right side of integral\n",
    "    #N == number of intervals to use\n",
    "    \n",
    "    #define x values on our grid\n",
    "    x = np.linspace(a,b,N)\n",
    "    h = x[1]-x[0]\n",
    "    \n",
    "    #define the integral\n",
    "    Fint = 0.0\n",
    "    \n",
    "    #perform the integral using the simpson's method\n",
    "    for i in range(0,len(x)-2,2):\n",
    "        Fint += simpson_core(f,x[i],h)\n",
    "        \n",
    "        #apply simpson's rule over the last interval\n",
    "        #if N is even\n",
    "        if((N%2)==0):\n",
    "            Fint += simpson_core(f,x[-2],0.5*h)\n",
    "        \n",
    "    #return the answer\n",
    "    return Fint"
   ]
  },
  {
   "cell_type": "markdown",
   "id": "91e6f14c",
   "metadata": {},
   "source": [
    "### Define Romberg core"
   ]
  },
  {
   "cell_type": "code",
   "execution_count": null,
   "id": "32a56b20",
   "metadata": {},
   "outputs": [],
   "source": [
    "def romberg_core(f,a,b,i):\n",
    "    \n",
    "    #we need the difference between a and b\n",
    "    h = b-a\n",
    "    \n",
    "    #interval between function evaluations at refinement level i\n",
    "    dh = h/2.**(i)\n",
    "    \n",
    "    #we need the cofactor\n",
    "    K = h/2.**(i+1)\n",
    "    \n",
    "    #and the function evaluations\n",
    "    M = 0.0\n",
    "    for j in range(2**i):\n",
    "        M += f(a + 0.5*dh + j*dh)\n",
    "        \n",
    "    #return the answer\n",
    "    return K*M"
   ]
  },
  {
   "cell_type": "markdown",
   "id": "062f12c4",
   "metadata": {},
   "source": [
    "### Wrapper function for Romberg integration"
   ]
  },
  {
   "cell_type": "code",
   "execution_count": null,
   "id": "8772019d",
   "metadata": {},
   "outputs": [],
   "source": [
    "def romberg_integration(f,a,b,tol):\n",
    "    \n",
    "    #define an iteration varaible\n",
    "    i=0\n",
    "    \n",
    "    #define a max number of iterations\n",
    "    imax = 1000\n",
    "    \n",
    "    #define an error estimate\n",
    "    delta = 100.0*np.fabs(tol)\n",
    "    \n",
    "    #set an array of integral answers\n",
    "    I = np.zeros(imax,dtype=float)\n",
    "    \n",
    "    #get the zeroth romberg iteration first\n",
    "    I[0] = 0.5*(b-a)*(f(a) + f(b))\n",
    "    \n",
    "    #iterate by 1\n",
    "    i += 1\n",
    "    \n",
    "    #iterate until we reach tolerance\n",
    "    while(delta>tol):\n",
    "        \n",
    "        #find this Romberg iteration\n",
    "        I[i] = 0.5*I[i-1] + romberg_core(f,a,b,i)\n",
    "        \n",
    "        #compute a fractional error estimate\n",
    "        delta = np.fabs( (I[i]-I[i-1])/I[i])\n",
    "        \n",
    "        print(i,I[i],I[i-1],delta)\n",
    "        \n",
    "        if(delta>tol):\n",
    "            \n",
    "            #iterate\n",
    "            i += 1\n",
    "            \n",
    "            #if we've reached maximum iterations\n",
    "            if(i>imax):\n",
    "                print(\"Max iterations reached.\")\n",
    "                raise StopIteration(\"Stopp iterations after \",i)\n",
    "                \n",
    "    #return the answer\n",
    "    return I[i]"
   ]
  },
  {
   "cell_type": "markdown",
   "id": "2af29281",
   "metadata": {},
   "source": [
    "### Check your answers!"
   ]
  },
  {
   "cell_type": "code",
   "execution_count": null,
   "id": "4b219a15",
   "metadata": {},
   "outputs": [],
   "source": [
    "Answer = func_integral(1) - func_integral(0)\n",
    "print(Answer)\n",
    "print(\"trapezoid method\")\n",
    "print(trapezoid_method(func,0,1,1000))\n",
    "print(\"Simpson's method\")\n",
    "print(simpsons_method(func,0,1,10))\n",
    "print(\"Romberg\")\n",
    "tolerance = 1.0e-4\n",
    "RI = romberg_integration(func,0,1,tolerance)\n",
    "print(RI, (RI-Answer)/Answer, tolerance)"
   ]
  },
  {
   "cell_type": "markdown",
   "id": "2050d492",
   "metadata": {},
   "source": [
    "## How many iterations?? - Romberg Integration\n",
    "#### 17 iterations for the Romberg integration to reach the specified accuracy."
   ]
  },
  {
   "cell_type": "markdown",
   "id": "0e95aa1b",
   "metadata": {},
   "source": [
    "## How many intervals?? - Trapezoid Method\n",
    "### 1000 intervals needed to reach the specified accuracy."
   ]
  },
  {
   "cell_type": "markdown",
   "id": "fbacd255",
   "metadata": {},
   "source": [
    "## How many intervals?? - Simpson's Method\n",
    "### My input must have gone wrong somewhere. This method is nowhere close to being accurate, no matter the amount of intervals."
   ]
  },
  {
   "cell_type": "code",
   "execution_count": null,
   "id": "35eccd10",
   "metadata": {},
   "outputs": [],
   "source": []
  }
 ],
 "metadata": {
  "kernelspec": {
   "display_name": "Python 3 (ipykernel)",
   "language": "python",
   "name": "python3"
  },
  "language_info": {
   "codemirror_mode": {
    "name": "ipython",
    "version": 3
   },
   "file_extension": ".py",
   "mimetype": "text/x-python",
   "name": "python",
   "nbconvert_exporter": "python",
   "pygments_lexer": "ipython3",
   "version": "3.9.7"
  }
 },
 "nbformat": 4,
 "nbformat_minor": 5
}
