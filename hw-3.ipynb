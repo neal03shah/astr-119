{
 "cells": [
  {
   "cell_type": "code",
   "execution_count": null,
   "id": "923fc95b",
   "metadata": {},
   "outputs": [],
   "source": [
    "import numpy as np\n",
    "import matplotlib.pyplot as plt"
   ]
  },
  {
   "cell_type": "code",
   "execution_count": null,
   "id": "fa071343",
   "metadata": {},
   "outputs": [],
   "source": [
    "x = np.linspace(0, 2* np.pi,1000) # define an array of 1K values (0,2pi)"
   ]
  },
  {
   "cell_type": "code",
   "execution_count": null,
   "id": "d6acc817",
   "metadata": {},
   "outputs": [],
   "source": [
    "y1 = 5.5 * np.cos(2 * x) + 5.5 # define a) y(x)\n",
    "y2 = 0.02 * np.exp(x) # define b) y(x)\n",
    "y3 = 0.25 * np.square(x) + 0.1 * np.sin(10 * x) # define c) y(x)"
   ]
  },
  {
   "cell_type": "code",
   "execution_count": null,
   "id": "c2ea2ffa",
   "metadata": {},
   "outputs": [],
   "source": [
    "plt.plot(x,y1) # plot (a)\n",
    "plt.plot(x,y2) # plot (b)\n",
    "plt.plot(x,y3) # plot (c)\n",
    "plt.xlim(0,2 * np.pi) # define limit of x axis (0,2pi)\n",
    "plt.ylim(-1,10) # define limit of y axis (-1,10)\n",
    "plt.ylabel(\"Measures of Awesomeness\") # labeled y axis\n",
    "plt.xlabel(\"Time in ASTR 119\") # labeled x axis\n",
    "plt.show() # show the graph"
   ]
  },
  {
   "cell_type": "code",
   "execution_count": null,
   "id": "420644c7",
   "metadata": {},
   "outputs": [],
   "source": []
  }
 ],
 "metadata": {
  "kernelspec": {
   "display_name": "Python 3 (ipykernel)",
   "language": "python",
   "name": "python3"
  },
  "language_info": {
   "codemirror_mode": {
    "name": "ipython",
    "version": 3
   },
   "file_extension": ".py",
   "mimetype": "text/x-python",
   "name": "python",
   "nbconvert_exporter": "python",
   "pygments_lexer": "ipython3",
   "version": "3.9.7"
  }
 },
 "nbformat": 4,
 "nbformat_minor": 5
}
